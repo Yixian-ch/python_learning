{
 "cells": [
  {
   "cell_type": "code",
   "execution_count": 4,
   "id": "c1e50e62",
   "metadata": {},
   "outputs": [
    {
     "name": "stdout",
     "output_type": "stream",
     "text": [
      "11754056 11754056\n",
      "11754056 11753864\n"
     ]
    }
   ],
   "source": [
    "a = 6\n",
    "b = a\n",
    "print(id(a),id(b)) # same object\n",
    "b = a - 6 # new object\n",
    "print(id(a),id(b))"
   ]
  },
  {
   "cell_type": "code",
   "execution_count": 12,
   "id": "8ec10f48",
   "metadata": {},
   "outputs": [
    {
     "name": "stdout",
     "output_type": "stream",
     "text": [
      "130008453510976 130008453510976\n",
      "130008453510976 130008453534656\n"
     ]
    }
   ],
   "source": [
    "a = [6]\n",
    "b = a\n",
    "print(id(a),id(b))\n",
    "b = a + [3] # new object\n",
    "print(id(a),id(b))"
   ]
  },
  {
   "cell_type": "markdown",
   "id": "6a2b5ef9",
   "metadata": {},
   "source": [
    "# Python design"
   ]
  },
  {
   "cell_type": "markdown",
   "id": "be9c80db",
   "metadata": {},
   "source": [
    "## + - operators\n",
    "`+ -` operators will call responding methods like __add__ which will return a new object\n",
    " returns a value then assign it to a, just like a = 7, they all assign a new value to a rather than modify a's original value"
   ]
  },
  {
   "cell_type": "code",
   "execution_count": 16,
   "id": "7823dbfa",
   "metadata": {},
   "outputs": [
    {
     "name": "stdout",
     "output_type": "stream",
     "text": [
      "11753992\n",
      "11754152\n"
     ]
    }
   ],
   "source": [
    "a = 1 + 3\n",
    "print(id(a))\n",
    "# +(1,3) -> 4 \n",
    "a = a + 5 # +(a, 5)\n",
    "print(id(a))"
   ]
  },
  {
   "cell_type": "code",
   "execution_count": null,
   "id": "560cb230",
   "metadata": {},
   "outputs": [],
   "source": [
    "## methods which return None and modify variable's original value\n",
    "do not do if we want to get a list contaning 3 and 6, cause the append() method modifies the variable already and by defaut it returns None, we do not need to assign it to our a"
   ]
  },
  {
   "cell_type": "code",
   "execution_count": 15,
   "id": "d829f6bc",
   "metadata": {},
   "outputs": [
    {
     "name": "stdout",
     "output_type": "stream",
     "text": [
      "[3, 6]\n",
      "None\n"
     ]
    }
   ],
   "source": [
    "a = [3]\n",
    "a.append(6)\n",
    "print(a)\n",
    "a = a.append(6) \n",
    "print(a)"
   ]
  },
  {
   "cell_type": "code",
   "execution_count": null,
   "id": "f78b0457",
   "metadata": {},
   "outputs": [],
   "source": [
    "## data type\n",
    "there are two types of data immutable and mutable\n",
    "immutable means all operations on immutables will actually create a new object like"
   ]
  },
  {
   "cell_type": "code",
   "execution_count": 14,
   "id": "d3779e2f",
   "metadata": {},
   "outputs": [
    {
     "name": "stdout",
     "output_type": "stream",
     "text": [
      "11754024 11754024\n",
      "11754024 11753864\n"
     ]
    }
   ],
   "source": [
    "a = 5\n",
    "b = a\n",
    "print(id(a),id(b)) # same object\n",
    "b = b - 5 # int is immutable and + - operation will create new object\n",
    "print(id(a),id(b))\n"
   ]
  },
  {
   "cell_type": "markdown",
   "id": "bdd35a5b",
   "metadata": {},
   "source": [
    "mutable means operations modify object itself without creating a new object is suitable\n",
    "like list is implemented as a dynamic array with extra memory space pre-allocated\n",
    "imagine a list as a box given places\n",
    "list = [1] [2] [3] [] [] [] [] [] \n",
    "when we append a new element, we put it into the box without creating a new one\n",
    "list.append(4)\n",
    "list = [1] [2] [3] [4] [] [] [] [] \n",
    "but when the box is full, we create a new bigger box copy the old one, then replace it. So actually we will create a new list which will replace the old list in the same memory place\n",
    "`1. Allocate new block:\n",
    "   [_][_][_][_][_][_][_][_] (Memory at 0x2000)\n",
    "2. Copy old data:\n",
    "   [1][2][3][_][_][_][_][_]\n",
    "3. Add new element:\n",
    "   [1][2][3][4][_][_][_][_]\n",
    "4. Free old block at 0x1000`"
   ]
  },
  {
   "cell_type": "code",
   "execution_count": 19,
   "id": "9ec2484f",
   "metadata": {},
   "outputs": [
    {
     "name": "stdout",
     "output_type": "stream",
     "text": [
      "130008453535680 130008453535680\n",
      "130008453535680 [6, 3] 130008453535680 [6, 3]\n"
     ]
    }
   ],
   "source": [
    "a = [6]\n",
    "b = a\n",
    "print(id(a),id(b))\n",
    "# b = b.append(3) # do not do this, this method returns a None object\n",
    "b.append(3)\n",
    "print(id(a),a, id(b),b) # still same object append method modify the current list"
   ]
  }
 ],
 "metadata": {
  "kernelspec": {
   "display_name": "Python 3 (ipykernel)",
   "language": "python",
   "name": "python3"
  },
  "language_info": {
   "codemirror_mode": {
    "name": "ipython",
    "version": 3
   },
   "file_extension": ".py",
   "mimetype": "text/x-python",
   "name": "python",
   "nbconvert_exporter": "python",
   "pygments_lexer": "ipython3",
   "version": "3.12.3"
  }
 },
 "nbformat": 4,
 "nbformat_minor": 5
}
