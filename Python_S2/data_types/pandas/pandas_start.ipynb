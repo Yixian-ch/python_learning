{
 "cells": [
  {
   "cell_type": "markdown",
   "metadata": {},
   "source": [
    "# Pandas\n",
    "## DataFrame\n",
    "Pandas handles tabular data as a dictionary in Python. A dataframe is a 2-demensional data structure that can stores data in different types "
   ]
  },
  {
   "cell_type": "code",
   "execution_count": 5,
   "metadata": {},
   "outputs": [
    {
     "name": "stdout",
     "output_type": "stream",
     "text": [
      "                       Name  Age     Sex\n",
      "0   Braund, Mr. Owen Harris   22    male\n",
      "1  Allen, Mr. William Henry   35    male\n",
      "2  Bonnell, Miss. Elizabeth   58  female\n",
      "<class 'pandas.core.frame.DataFrame'>\n"
     ]
    }
   ],
   "source": [
    "\n",
    "import pandas as pd\n",
    "\n",
    "data = pd.DataFrame(\n",
    "    {\n",
    "    \"Name\": [\n",
    "        \"Braund, Mr. Owen Harris\",\n",
    "        \"Allen, Mr. William Henry\",\n",
    "        \"Bonnell, Miss. Elizabeth\",\n",
    "    ],\n",
    "    \"Age\": [22, 35, 58],\n",
    "    \"Sex\": [\"male\", \"male\", \"female\"],\n",
    "}\n",
    ")\n",
    "print(data,type(data),sep=\"\\n\")\n",
    "\n"
   ]
  },
  {
   "cell_type": "markdown",
   "metadata": {},
   "source": [
    "## Series\n",
    "Each column in a DataFrame is a Series which is like the value of the key in dictionary"
   ]
  },
  {
   "cell_type": "code",
   "execution_count": 6,
   "metadata": {},
   "outputs": [
    {
     "name": "stdout",
     "output_type": "stream",
     "text": [
      "0    22\n",
      "1    35\n",
      "2    58\n",
      "Name: Age, dtype: int64\n",
      "<class 'pandas.core.series.Series'>\n",
      "0    22\n",
      "1    35\n",
      "2    28\n",
      "Name: Age, dtype: int64\n",
      "<class 'pandas.core.series.Series'>\n"
     ]
    }
   ],
   "source": [
    "age = data['Age']\n",
    "print(age, type(age),sep=\"\\n\")\n",
    "\n",
    "age = pd.Series([22,35,28],name=\"Age\")\n",
    "print(age, type(age),sep=\"\\n\")\n"
   ]
  },
  {
   "cell_type": "markdown",
   "metadata": {},
   "source": [
    "a lot of funcitons can be applies both on DataFrame and Series"
   ]
  },
  {
   "cell_type": "code",
   "execution_count": 7,
   "metadata": {},
   "outputs": [
    {
     "name": "stdout",
     "output_type": "stream",
     "text": [
      "58\n"
     ]
    },
    {
     "data": {
      "text/html": [
       "<div>\n",
       "<style scoped>\n",
       "    .dataframe tbody tr th:only-of-type {\n",
       "        vertical-align: middle;\n",
       "    }\n",
       "\n",
       "    .dataframe tbody tr th {\n",
       "        vertical-align: top;\n",
       "    }\n",
       "\n",
       "    .dataframe thead th {\n",
       "        text-align: right;\n",
       "    }\n",
       "</style>\n",
       "<table border=\"1\" class=\"dataframe\">\n",
       "  <thead>\n",
       "    <tr style=\"text-align: right;\">\n",
       "      <th></th>\n",
       "      <th>Age</th>\n",
       "    </tr>\n",
       "  </thead>\n",
       "  <tbody>\n",
       "    <tr>\n",
       "      <th>count</th>\n",
       "      <td>3.000000</td>\n",
       "    </tr>\n",
       "    <tr>\n",
       "      <th>mean</th>\n",
       "      <td>38.333333</td>\n",
       "    </tr>\n",
       "    <tr>\n",
       "      <th>std</th>\n",
       "      <td>18.230012</td>\n",
       "    </tr>\n",
       "    <tr>\n",
       "      <th>min</th>\n",
       "      <td>22.000000</td>\n",
       "    </tr>\n",
       "    <tr>\n",
       "      <th>25%</th>\n",
       "      <td>28.500000</td>\n",
       "    </tr>\n",
       "    <tr>\n",
       "      <th>50%</th>\n",
       "      <td>35.000000</td>\n",
       "    </tr>\n",
       "    <tr>\n",
       "      <th>75%</th>\n",
       "      <td>46.500000</td>\n",
       "    </tr>\n",
       "    <tr>\n",
       "      <th>max</th>\n",
       "      <td>58.000000</td>\n",
       "    </tr>\n",
       "  </tbody>\n",
       "</table>\n",
       "</div>"
      ],
      "text/plain": [
       "             Age\n",
       "count   3.000000\n",
       "mean   38.333333\n",
       "std    18.230012\n",
       "min    22.000000\n",
       "25%    28.500000\n",
       "50%    35.000000\n",
       "75%    46.500000\n",
       "max    58.000000"
      ]
     },
     "execution_count": 7,
     "metadata": {},
     "output_type": "execute_result"
    }
   ],
   "source": [
    "# max function actually words for the int values, we get a Series by using dataframe[]\n",
    "# in this Series which contains a list of int values\n",
    "\n",
    "print(data['Age'].max())\n",
    "\n",
    "# Locate the numerical value columns and show some basic statistics\n",
    "age.describe()\n",
    "data.describe()"
   ]
  },
  {
   "cell_type": "markdown",
   "metadata": {},
   "source": [
    "## Read and wite a tubular data"
   ]
  },
  {
   "cell_type": "code",
   "execution_count": 8,
   "metadata": {},
   "outputs": [
    {
     "data": {
      "text/plain": [
       "PassengerId      int64\n",
       "Survived         int64\n",
       "Pclass           int64\n",
       "Name            object\n",
       "Sex             object\n",
       "Age            float64\n",
       "SibSp            int64\n",
       "Parch            int64\n",
       "Ticket          object\n",
       "Fare           float64\n",
       "Cabin           object\n",
       "Embarked        object\n",
       "dtype: object"
      ]
     },
     "execution_count": 8,
     "metadata": {},
     "output_type": "execute_result"
    }
   ],
   "source": [
    "titanic = pd.read_csv(\"titanic.csv\")\n",
    "\n",
    "# first n rows of a DataFrame, tail for last\n",
    "titanic.head(8)\n",
    "# to chech the attribute datatype of each column. Object are strings\n",
    "titanic.dtypes"
   ]
  },
  {
   "cell_type": "markdown",
   "metadata": {},
   "source": [
    "## Format transform\n",
    "`.to_*(path2save,sheet_name,index...)` Index will create a column in the left to record each row, if we enable sheet_name, will do not need index, cause it will do his job"
   ]
  },
  {
   "cell_type": "code",
   "execution_count": 9,
   "metadata": {},
   "outputs": [],
   "source": [
    "titanic.to_excel(\"titanic.xlsx\",sheet_name=\"passengers\",index=False)\n",
    "\n",
    "titanic = pd.read_excel(\"titanic.xlsx\",sheet_name=\"passengers\")"
   ]
  },
  {
   "cell_type": "code",
   "execution_count": 10,
   "metadata": {},
   "outputs": [
    {
     "name": "stdout",
     "output_type": "stream",
     "text": [
      "<class 'pandas.core.frame.DataFrame'>\n",
      "RangeIndex: 891 entries, 0 to 890\n",
      "Data columns (total 12 columns):\n",
      " #   Column       Non-Null Count  Dtype  \n",
      "---  ------       --------------  -----  \n",
      " 0   PassengerId  891 non-null    int64  \n",
      " 1   Survived     891 non-null    int64  \n",
      " 2   Pclass       891 non-null    int64  \n",
      " 3   Name         891 non-null    object \n",
      " 4   Sex          891 non-null    object \n",
      " 5   Age          714 non-null    float64\n",
      " 6   SibSp        891 non-null    int64  \n",
      " 7   Parch        891 non-null    int64  \n",
      " 8   Ticket       891 non-null    object \n",
      " 9   Fare         891 non-null    float64\n",
      " 10  Cabin        204 non-null    object \n",
      " 11  Embarked     889 non-null    object \n",
      "dtypes: float64(2), int64(5), object(5)\n",
      "memory usage: 83.7+ KB\n",
      "<class 'pandas.core.series.Series'>\n",
      "RangeIndex: 891 entries, 0 to 890\n",
      "Series name: Age\n",
      "Non-Null Count  Dtype  \n",
      "--------------  -----  \n",
      "714 non-null    float64\n",
      "dtypes: float64(1)\n",
      "memory usage: 7.1 KB\n"
     ]
    }
   ],
   "source": [
    "titanic.head()\n",
    "# A technical summary \n",
    "titanic.info()\n",
    "titanic['Age'].info()"
   ]
  },
  {
   "cell_type": "markdown",
   "metadata": {},
   "source": [
    "## Select subset\n",
    "### attributes of both DataFrame and Series\n",
    "- shape (A Pandas Series is one-dimensinal and only the number of rows is returned)\n",
    "### Methods\n",
    "- `reset_index(drop=True)` reset index for each subset"
   ]
  },
  {
   "cell_type": "code",
   "execution_count": 11,
   "metadata": {},
   "outputs": [
    {
     "name": "stdout",
     "output_type": "stream",
     "text": [
      "    Age     Sex\n",
      "0  22.0    male\n",
      "1  38.0  female\n",
      "2  26.0  female\n",
      "3  35.0  female\n",
      "4  35.0    male\n",
      "(891, 2)\n",
      "<class 'pandas.core.frame.DataFrame'>\n"
     ]
    }
   ],
   "source": [
    "titanic['Age'].shape\n",
    "# to select a sub DataFrame [[]]\n",
    "age_sex = titanic[['Age','Sex']]\n",
    "print(age_sex.head(),age_sex.shape,type(age_sex),sep=\"\\n\")"
   ]
  },
  {
   "cell_type": "markdown",
   "metadata": {},
   "source": [
    "### Select specific rows\n",
    "`DataFrame[DataFrame['column'] conditional expresion]` The output is Series of boolean values withe the **same number** of rows in the original df, only rows for which the value if True will be selected\n",
    "expression `titanic['Age'] > 35` will return a boolean mask like this `0 False 1 True...` of all rows, like a dict. Then `titanic[boolean_mask]` will get the rows of index only the value is True "
   ]
  },
  {
   "cell_type": "code",
   "execution_count": 12,
   "metadata": {},
   "outputs": [
    {
     "data": {
      "text/plain": [
       "(675, 12)"
      ]
     },
     "execution_count": 12,
     "metadata": {},
     "output_type": "execute_result"
    }
   ],
   "source": [
    "above_35 = titanic[titanic['Age'] > 35]\n",
    "above_35.shape\n",
    "class_2_3 = titanic[titanic['Pclass'].isin([2,3])]\n",
    "class_2_3.shape"
   ]
  },
  {
   "cell_type": "markdown",
   "metadata": {},
   "source": [
    "## Use sql queries in Pandas\n",
    "`SELECT COUNT(*) FROM titanic` = `len(titanic)`\n",
    "`SELECT Sex FROM titanic` = `titanic[\"Sex\"]`\n",
    "`SELECT * FROM titanic WHERE Sex = \"female\"` = `titanic[titanic[\"Sex\"] ==\"female\"]`\n",
    "`SELECT Age FROM titanic WHERE Sex = \"female\"` = `titanic[titanic[\"Sex\"] == \"female\"][\"Age\"]`\n",
    "`SELECT * FROM titanic ORDER BY Age DESC;` = `titanic.sort_values(by=\"Age\",ascending=False)`\n",
    "`SELECT AVG(age) FROM titanic where Sex = \"male\"` = `titanic[titanic[\"Sex\"]==\"male\"][\"Age\"].mean()`\n",
    "`SELECT count(*) FROM titanic WHERE Sex = \"female\"` = `len(titanic[titanic[\"Sex\"]==\"female\"])`\n",
    "`SELECT pclass, mean(age) from titanic GROUP BY pclass` = `titanic.groupby(\"Pclass\")[\"Age\"].mean()`"
   ]
  },
  {
   "cell_type": "code",
   "execution_count": 59,
   "metadata": {},
   "outputs": [
    {
     "name": "stdout",
     "output_type": "stream",
     "text": [
      "109 233\n"
     ]
    },
    {
     "data": {
      "text/plain": [
       "<BarContainer object of 2 artists>"
      ]
     },
     "execution_count": 59,
     "metadata": {},
     "output_type": "execute_result"
    },
    {
     "data": {
      "image/png": "[encoded data removed]",
      "text/plain": [
       "<Figure size 640x480 with 1 Axes>"
      ]
     },
     "metadata": {},
     "output_type": "display_data"
    }
   ],
   "source": [
    "import matplotlib.pyplot as pyplot\n",
    "# survivied:1 \n",
    "\n",
    "pyplot.bar([\"male\",\"female\"],[len(titanic[titanic[\"Sex\"]==\"male\"]),len(titanic[titanic[\"Sex\"]==\"female\"])])\n",
    "survivors_male = titanic[(titanic[\"Sex\"]==\"male\") & (titanic[\"Survived\"] ==1)][\"Sex\"].count()\n",
    "survivors_female = titanic[(titanic[\"Sex\"]==\"female\") & (titanic[\"Survived\"] ==1)][\"Sex\"].count()\n",
    "print(survivors_male,survivors_female)\n",
    "pyplot.bar([\"male\",\"female\"],[survivors_male,survivors_female])"
   ]
  },
  {
   "cell_type": "code",
   "execution_count": null,
   "metadata": {},
   "outputs": [
    {
     "name": "stdout",
     "output_type": "stream",
     "text": [
      "a\n",
      "(314, 12)\n",
      "a select age\n",
      "1      38.0\n",
      "2      26.0\n",
      "3      35.0\n",
      "8      27.0\n",
      "9      14.0\n",
      "       ... \n",
      "880    25.0\n",
      "882    22.0\n",
      "885    39.0\n",
      "887    19.0\n",
      "888     NaN\n",
      "Name: Age, Length: 314, dtype: float64\n",
      "b select sex 0        male\n",
      "1      female\n",
      "2      female\n",
      "3      female\n",
      "4        male\n",
      "        ...  \n",
      "886      male\n",
      "887    female\n",
      "888    female\n",
      "889      male\n",
      "890      male\n",
      "Name: Sex, Length: 891, dtype: object\n",
      "c order by age desc\n",
      "630    80.0\n",
      "851    74.0\n",
      "493    71.0\n",
      "96     71.0\n",
      "116    70.5\n",
      "       ... \n",
      "859     NaN\n",
      "863     NaN\n",
      "868     NaN\n",
      "878     NaN\n",
      "888     NaN\n",
      "Name: Age, Length: 891, dtype: float64\n",
      "d select mean age\n",
      "30.72664459161148\n",
      "e select pclass and mean age groupby pclass\n",
      "Pclass\n",
      "1    38.233441\n",
      "2    29.877630\n",
      "3    25.140620\n",
      "Name: Age, dtype: float64\n"
     ]
    }
   ],
   "source": [
    "a = titanic[titanic[\"Sex\"] ==\"female\"]\n",
    "print(\"a select * where sex is female\", a.shape,sep=\"\\n\")\n",
    "a_age = titanic[titanic[\"Sex\"] == \"female\"][\"Age\"]\n",
    "print(\"a select age\",a_age,sep=\"\\n\")\n",
    "\n",
    "b = titanic[\"Sex\"]\n",
    "print(\"b select sex\",b)\n",
    "\n",
    "c = titanic.sort_values(by=\"Age\",ascending=False)\n",
    "print(\"c order by age desc\",c[\"Age\"],sep=\"\\n\")\n",
    "\n",
    "d = titanic[titanic[\"Sex\"]==\"male\"][\"Age\"].mean()\n",
    "print(\"d select mean age\",d,sep=\"\\n\")\n",
    "\n",
    "e = titanic.groupby(\"Pclass\")[\"Age\"].mean()\n",
    "print(\"e select pclass and mean age groupby pclass\",e,sep=\"\\n\")"
   ]
  }
 ],
 "metadata": {
  "kernelspec": {
   "display_name": "Python 3",
   "language": "python",
   "name": "python3"
  },
  "language_info": {
   "codemirror_mode": {
    "name": "ipython",
    "version": 3
   },
   "file_extension": ".py",
   "mimetype": "text/x-python",
   "name": "python",
   "nbconvert_exporter": "python",
   "pygments_lexer": "ipython3",
   "version": "3.12.3"
  }
 },
 "nbformat": 4,
 "nbformat_minor": 2
}
