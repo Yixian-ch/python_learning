{
 "cells": [
  {
   "cell_type": "markdown",
   "metadata": {},
   "source": [
    "# Recursion\n",
    "Recursion is like a multiple dream, we dream in dreams. To weak up, we need to wake up from the last dream to the before-last, and so on. \n",
    "The concept of recursion in programming is when you try to resolve a complexe problem, you break it into subparts, and break subparts into subparts until there is not possible to break. Then we relove the elementary problem which will **return something**. We resolve the second problem with what the solved problem returns, and once we resolve it, we resolve the next problem with what we get already and so one. It's kind repetive in fact once we get the logic."
   ]
  },
  {
   "cell_type": "markdown",
   "metadata": {},
   "source": [
    "## Some simple examples to understand the idea\n",
    "In programming, to do the recursion, here are some requirements. \n",
    "- Usually we use recursion in a function, and in programming, recursion means a function call itself.\n",
    "- We need to tell program **when to stop**, like when you are dreaming in dream that you cannot keep doing this if you want to wake up. **In program when our function returns a value rathan than call itself, the recursion stops.**\n",
    "- When the recursion starts, it means there is a line we call the function it self. When we do this, make sure the **argument** we give will change progressively to make sure the recursion will stop in a certain condition.\n",
    "- During the recursion, we call the function itself which will call itself again, the process is like a function has itself inside which has itself again. Why the program keeps calling itself, it's because for a function, our program expects it return something. By calling itself, it hopes to find when the function returns a value(this is when recursion stops), and with this value, it goes back step by step, one function returns a value for another function.\n",
    "- "
   ]
  },
  {
   "cell_type": "code",
   "execution_count": 5,
   "metadata": {},
   "outputs": [
    {
     "name": "stdout",
     "output_type": "stream",
     "text": [
      "15\n"
     ]
    }
   ],
   "source": [
    "from random import randint\n",
    "lst = [randint(-50,50) for _ in range(15)]\n",
    "def length(lst:list) -> int:\n",
    "    if lst == []:\n",
    "        return 0\n",
    "    else:\n",
    "        return 1 + length(lst[1:]) # here 1 + operation is what I want to mean. \n",
    "        #if we simply call the function itself given an dynamic argument, the result is not interesting\n",
    "        # here I want to build a function to count the length of a list. \n",
    "        # Since lst[1:], the list will be shorter and shorter. And we use 1+ to count each element been thrown out of the list\n",
    "print(length(lst))"
   ]
  },
  {
   "cell_type": "code",
   "execution_count": 6,
   "metadata": {},
   "outputs": [
    {
     "name": "stdout",
     "output_type": "stream",
     "text": [
      "-10\n",
      "-9\n",
      "-8\n",
      "-7\n",
      "-6\n",
      "-5\n",
      "-4\n",
      "-3\n",
      "-2\n",
      "-1\n",
      "!!! 0 !!!\n",
      "10\n"
     ]
    }
   ],
   "source": [
    "def badly_defined(x):\n",
    "    if x == 0: # simple case\n",
    "        print('!!! 0 !!!')\n",
    "        return 0\n",
    "\n",
    "    else:\n",
    "        print(x)\n",
    "        res = 1 + badly_defined(x+1) # x increases instead of going to 0\n",
    "        return res\n",
    "print(badly_defined(-10))"
   ]
  },
  {
   "cell_type": "code",
   "execution_count": 7,
   "metadata": {},
   "outputs": [
    {
     "name": "stdout",
     "output_type": "stream",
     "text": [
      "impair\n"
     ]
    }
   ],
   "source": [
    "def parity(number):\n",
    "    if number == 0:\n",
    "        return \"pair\"\n",
    "    elif number == 1 :\n",
    "        return \"impair\"\n",
    "    \n",
    "    return parity(number-2)\n",
    "\n",
    "print(parity(11))"
   ]
  },
  {
   "cell_type": "markdown",
   "metadata": {},
   "source": [
    "## Modulo"
   ]
  },
  {
   "cell_type": "code",
   "execution_count": 45,
   "metadata": {},
   "outputs": [
    {
     "name": "stdout",
     "output_type": "stream",
     "text": [
      "Jin wei!!!\n",
      "Jin wei!!!\n",
      "7\n"
     ]
    }
   ],
   "source": [
    "def modulo(x,y):\n",
    "    if x < y:\n",
    "        return x\n",
    "    return modulo(x-y,y)\n",
    "\n",
    "\n",
    "def mod_2(x, b): # more fun !\n",
    "    # simple case : 0\n",
    "    if x == 0:\n",
    "        return 0\n",
    "\n",
    "    # more complex cases : x != 0\n",
    "    m = 1 + mod_2(x-1, b) \n",
    "    # here when the recursion is over, function has a value, before return a value to the last function, we can do someting to it\n",
    "    if m == b: # divided x by b\n",
    "        return 0\n",
    "    else:\n",
    "        return m\n",
    "# print(mod_2(3,2))\n",
    "\n",
    "def addition(x,y):\n",
    "    if x < y and x==0:\n",
    "        return y\n",
    "    elif x > y and y ==0:\n",
    "        return x\n",
    "    elif x == y and (x == 0 or y ==0): \n",
    "        return 0\n",
    "    result = 2 + addition(x-1,y-1)\n",
    "\n",
    "    if result >= 10:\n",
    "        print(\"Jin wei!!!\")\n",
    "        return result - 10\n",
    "    else:\n",
    "        return result\n",
    "    \n",
    "print(addition(21,6))"
   ]
  }
 ],
 "metadata": {
  "kernelspec": {
   "display_name": ".venv",
   "language": "python",
   "name": "python3"
  },
  "language_info": {
   "codemirror_mode": {
    "name": "ipython",
    "version": 3
   },
   "file_extension": ".py",
   "mimetype": "text/x-python",
   "name": "python",
   "nbconvert_exporter": "python",
   "pygments_lexer": "ipython3",
   "version": "3.12.3"
  }
 },
 "nbformat": 4,
 "nbformat_minor": 2
}
