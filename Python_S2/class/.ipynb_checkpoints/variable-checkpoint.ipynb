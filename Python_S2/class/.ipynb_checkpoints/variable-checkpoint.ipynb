{
 "cells": [
  {
   "cell_type": "markdown",
   "id": "8c6e6210",
   "metadata": {},
   "source": [
    "# what is a variable"
   ]
  },
  {
   "cell_type": "markdown",
   "id": "09857a3d",
   "metadata": {},
   "source": [
    "A variable in Python is like a key in a dict that refers to a value. Once a variable is declared and assigned to a value, it will be saved into a space named **nameplace** where all variables are saved.\n",
    "Imagine `a = 5000000000`, what we actually want is the int 5. The reason why we assign it a name/variable is because it's convenient to name a data with an alias to do more things. It's not interesting to use a value directly and it's time wasting. We do not want to waste time on writing a same value once and once if we want to use it in many cases.\n",
    "And the value itself, it's more than a value for computer. For human, number is the abstract concept of the real, numbers are arbitraire symboles. 5 can mean 5 in decimal, but 0101 can aussi mean 5, five can also mean 5. So the sign 5 is just another name for the concept of 5. \n",
    "For computer, it works in the same way. Computer does not need to know what 5000000000 means. It just needs to know that something exists, no matter what it is. So, for computer, to know something exists, it needs to remember it in part of its memory and give this part a name which is called adresse. \n",
    "So once we declare a variable and assign a value to it, we actually assign the adresse to it, so that the variable points works as a pointer of adresse guiding computer find what contains the adresse. Variables are saved in a the namespace.\n",
    "\n",
    "The fact that a variable points to an adresse is called 映射"
   ]
  },
  {
   "cell_type": "markdown",
   "id": "a2cf2aad",
   "metadata": {},
   "source": [
    "# What is an object"
   ]
  },
  {
   "cell_type": "markdown",
   "id": "535255e4",
   "metadata": {},
   "source": [
    "An object is the content of the memory refered by given adresse. In other word, the memory is the object. Memory can contain different types of data: value, type and Reference Count."
   ]
  },
  {
   "cell_type": "markdown",
   "id": "68136c41",
   "metadata": {},
   "source": [
    "# What is a class"
   ]
  },
  {
   "cell_type": "code",
   "execution_count": null,
   "id": "70089094",
   "metadata": {},
   "outputs": [],
   "source": [
    "类有点像我们自己定义的一个生物"
   ]
  },
  {
   "cell_type": "code",
   "execution_count": 7,
   "id": "11493d92",
   "metadata": {},
   "outputs": [],
   "source": [
    "# 类也是python中的一个对象，类所含有的东西被分为：类属性，实例属性，类方法，实例方法\n",
    "# 实例：在类的基础上生成的对象，指向类。共享类的属性，下面代码中help和show就是类属性，会被所有的实例共享\n",
    "class Greeting():\n",
    "    \n",
    "    def say_hello():\n",
    "        print(\"hello world\")\n",
    "\n",
    "\n"
   ]
  },
  {
   "cell_type": "markdown",
   "id": "c71169ec",
   "metadata": {},
   "source": [
    "# About module and package...\n"
   ]
  },
  {
   "cell_type": "markdown",
   "id": "61ab5250",
   "metadata": {},
   "source": [
    "## Module\n",
    "all py scripts are module, which is the main idea of module: possible to interact dynamically with other py files in another py file. Ex: avoid developping a same program. We want to build a tokenizer, we have already one preprocessing script. We do not need to write it again, but import it in our tokenizer.  "
   ]
  },
  {
   "cell_type": "code",
   "execution_count": 6,
   "id": "7dc8e0ed",
   "metadata": {},
   "outputs": [
    {
     "name": "stdout",
     "output_type": "stream",
     "text": [
      "133030391554864\n"
     ]
    }
   ],
   "source": [
    "chatbot = Greeting()\n",
    "print(id(chatbot))"
   ]
  }
 ],
 "metadata": {
  "kernelspec": {
   "display_name": "Python 3 (ipykernel)",
   "language": "python",
   "name": "python3"
  },
  "language_info": {
   "codemirror_mode": {
    "name": "ipython",
    "version": 3
   },
   "file_extension": ".py",
   "mimetype": "text/x-python",
   "name": "python",
   "nbconvert_exporter": "python",
   "pygments_lexer": "ipython3",
   "version": "3.12.3"
  }
 },
 "nbformat": 4,
 "nbformat_minor": 5
}
